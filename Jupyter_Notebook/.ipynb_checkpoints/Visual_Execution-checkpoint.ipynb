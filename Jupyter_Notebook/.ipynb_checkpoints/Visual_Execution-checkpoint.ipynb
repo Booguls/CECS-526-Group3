{
 "cells": [
  {
   "cell_type": "markdown",
   "metadata": {},
   "source": [
    "# Jupyter notebook to demonstrate how the machine learning model will operate\n",
    "\n",
    "Step 1: import necessary libraries to execute the Multi-layer perceptron model"
   ]
  },
  {
   "cell_type": "code",
   "execution_count": 1,
   "metadata": {},
   "outputs": [],
   "source": [
    "import numpy as np\n",
    "import pandas as pd\n",
    "\n",
    "from sklearn.preprocessing import LabelEncoder\n",
    "from sklearn.model_selection import train_test_split\n",
    "from sklearn.neural_network import MLPClassifier"
   ]
  },
  {
   "cell_type": "markdown",
   "metadata": {},
   "source": [
    "Step 2: Read data from csv file. For this execution, we used census data provided by UCLA.\n",
    "        Found here: https://archive.ics.uci.edu/ml/datasets/Adult"
   ]
  },
  {
   "cell_type": "code",
   "execution_count": 2,
   "metadata": {},
   "outputs": [],
   "source": [
    "census_data = pd.read_csv(\"..\\\\Data\\\\adult.csv\")\n",
    "df = pd.DataFrame(census_data)"
   ]
  },
  {
   "cell_type": "markdown",
   "metadata": {},
   "source": [
    "Step 3: Read the settings from the file 'data_settings.txt'. The file contains the categories we modify as well as a list of all the categories used in the model."
   ]
  },
  {
   "cell_type": "code",
   "execution_count": 3,
   "metadata": {},
   "outputs": [],
   "source": [
    "col_labels = []\n",
    "model_parameters = []\n",
    "with open('..\\\\data_settings.txt') as f:\n",
    "    lines = f.readlines()\n",
    "    categories = lines[0].split(':')[1].strip().split(',')\n",
    "    for category in categories:\n",
    "        col_labels.append(category)"
   ]
  },
  {
   "cell_type": "markdown",
   "metadata": {},
   "source": [
    "Step 4: Use LabelEncoder to make necessary adjustments to data. This will permit the machine learning model to read and take the input as it requires float values as input."
   ]
  },
  {
   "cell_type": "code",
   "execution_count": 4,
   "metadata": {},
   "outputs": [],
   "source": [
    "#col_labels = ['workclass','education','marital-status','occupation','relationship','race','sex','native-country','earnings']\n",
    "enc = LabelEncoder()\n",
    "for col in col_labels:\n",
    "    census_data[col] = census_data[col].astype('str')\n",
    "    census_data[col] = enc.fit_transform(census_data[col])"
   ]
  },
  {
   "cell_type": "markdown",
   "metadata": {},
   "source": [
    "Step 5: Split the data into four sets, two sets as training inputs and two sets as testing inputs."
   ]
  },
  {
   "cell_type": "code",
   "execution_count": 5,
   "metadata": {},
   "outputs": [],
   "source": [
    "features = df.iloc[:,:-1]\n",
    "classification = df.iloc[: , -1]\n",
    "X_train, X_test, y_train, y_test = train_test_split(features, classification)"
   ]
  },
  {
   "cell_type": "markdown",
   "metadata": {},
   "source": [
    "Step 6: Create and execute the machine learning model. Our project will attempt to provide a method of adjusting machine learning parameters."
   ]
  },
  {
   "cell_type": "code",
   "execution_count": 6,
   "metadata": {},
   "outputs": [
    {
     "name": "stdout",
     "output_type": "stream",
     "text": [
      "73.22196290382017\n"
     ]
    }
   ],
   "source": [
    "#Parameters of the machine learning model go within MLPClassifier()\n",
    "#Please see https://scikit-learn.org/stable/modules/generated/sklearn.neural_network.MLPClassifier.html for details on the multi-layer perceptron model.\n",
    "mlp_clf = MLPClassifier()\n",
    "mlp_clf.fit(X_train, y_train)\n",
    "mlp_score = mlp_clf.score(X_test, y_test)*100\n",
    "print(mlp_score)\n",
    "\n",
    "f.close()"
   ]
  },
  {
   "cell_type": "code",
   "execution_count": null,
   "metadata": {},
   "outputs": [],
   "source": []
  }
 ],
 "metadata": {
  "kernelspec": {
   "display_name": "Python 3",
   "language": "python",
   "name": "python3"
  },
  "language_info": {
   "codemirror_mode": {
    "name": "ipython",
    "version": 3
   },
   "file_extension": ".py",
   "mimetype": "text/x-python",
   "name": "python",
   "nbconvert_exporter": "python",
   "pygments_lexer": "ipython3",
   "version": "3.8.3"
  }
 },
 "nbformat": 4,
 "nbformat_minor": 4
}
